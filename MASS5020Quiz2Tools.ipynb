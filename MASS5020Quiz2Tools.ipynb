{
 "cells": [
  {
   "cell_type": "markdown",
   "metadata": {},
   "source": [
    "# Tool"
   ]
  },
  {
   "cell_type": "code",
   "execution_count": 18,
   "metadata": {},
   "outputs": [],
   "source": [
    "# Import Dependencies\n",
    "import numpy as np\n",
    "from scipy import stats"
   ]
  },
  {
   "cell_type": "markdown",
   "metadata": {},
   "source": [
    "## 1 Sample T Procedure"
   ]
  },
  {
   "cell_type": "markdown",
   "metadata": {},
   "source": [
    "### T Calculator"
   ]
  },
  {
   "cell_type": "code",
   "execution_count": 30,
   "metadata": {},
   "outputs": [
    {
     "name": "stdout",
     "output_type": "stream",
     "text": [
      "t = -1.9999999999999871\n"
     ]
    }
   ],
   "source": [
    "# Known Stat\n",
    "x_bar = 13.88\n",
    "s = 0.24\n",
    "n = 16\n",
    "u = 14\n",
    "\n",
    "t = (x_bar - u) / (s / np.sqrt(n))\n",
    "\n",
    "print('t = ' + str(t))\n",
    "\n",
    "# p = stats.t.sf(np.abs(t), n-1)*2  # two-sided pvalue = Prob(abs(t)\n",
    "# print('p = ' + str(p))"
   ]
  },
  {
   "cell_type": "markdown",
   "metadata": {},
   "source": [
    "### Confidence Interval"
   ]
  },
  {
   "cell_type": "code",
   "execution_count": 12,
   "metadata": {},
   "outputs": [
    {
     "name": "stdout",
     "output_type": "stream",
     "text": [
      "Confidence Interval: 576.0 ± 112.6248893273596\n",
      "[463.3751106726404, 688.6248893273596]\n"
     ]
    }
   ],
   "source": [
    "# Unkown Stat\n",
    "t = 2.776\n",
    "x_array = [550, 620, 710, 520, 480]\n",
    "\n",
    "x_bar = np.mean(x_array)\n",
    "s = np.std(x_array, ddof = 1)\n",
    "n = len(x_array)\n",
    "\n",
    "m = t * s / np.sqrt(n)\n",
    "\n",
    "print('Confidence Interval: ' + str(x_bar) + ' ± ' + str(m))\n",
    "print([x_bar - m, x_bar + m])"
   ]
  },
  {
   "cell_type": "code",
   "execution_count": 24,
   "metadata": {},
   "outputs": [
    {
     "name": "stdout",
     "output_type": "stream",
     "text": [
      "Confidence Interval: 7 ± 0.3968\n",
      "[6.6032, 7.3968]\n"
     ]
    }
   ],
   "source": [
    "# Known Stat\n",
    "t = 1.984\n",
    "x_bar = 7\n",
    "s = 2\n",
    "n = 100\n",
    "\n",
    "m = t * s / np.sqrt(n)\n",
    "\n",
    "print('Confidence Interval: ' + str(x_bar) + ' ± ' + str(m))\n",
    "print([x_bar - m, x_bar + m])"
   ]
  },
  {
   "cell_type": "markdown",
   "metadata": {},
   "source": [
    "## 2 Sample T Procedure for Mean"
   ]
  },
  {
   "cell_type": "markdown",
   "metadata": {},
   "source": [
    "### T Calculator"
   ]
  },
  {
   "cell_type": "code",
   "execution_count": 32,
   "metadata": {},
   "outputs": [],
   "source": [
    "def calculate_std_error(s1, s2, n1, n2):\n",
    "    return np.sqrt(s1 * s1 / n1 + s2 * s2 / n2)\n",
    "\n",
    "def calculate_t(x1_bar, x2_bar, s1, s2, n1, n2, u1_minus_u2):\n",
    "    return (x1_bar - x2_bar - u1_minus_u2)/calculate_std_error(s1, s2, n1, n2)"
   ]
  },
  {
   "cell_type": "code",
   "execution_count": 28,
   "metadata": {},
   "outputs": [
    {
     "name": "stdout",
     "output_type": "stream",
     "text": [
      "x1_bar = 5.0\n",
      "x2_bar = -0.2727272727272727\n",
      "s1 = 8.743251365736\n",
      "s2 = 5.900693333683917\n",
      "n1 = 10\n",
      "n2 = 11\n",
      "t = 1.6037172876755148\n"
     ]
    }
   ],
   "source": [
    "# Unkown Stat\n",
    "\n",
    "x1_array = [7, -4, 18, 17, -3, -5, 1, 10, 11, -2]\n",
    "x2_array = [-1, 12, -1, -3, 3, -5, 5, 2, -11, -1, -3]\n",
    "\n",
    "u1_minus_u2 = 0\n",
    "\n",
    "x1_bar = np.mean(x1_array)\n",
    "x2_bar = np.mean(x2_array)\n",
    "\n",
    "s1 = np.std(x1_array, ddof = 1) # sample mean ddof = 1\n",
    "s2 = np.std(x2_array, ddof = 1)\n",
    "\n",
    "n1 = len(x1_array)\n",
    "n2 = len(x2_array)\n",
    "\n",
    "print('x1_bar = ' + str(x1_bar) + '\\nx2_bar = ' + str(x2_bar) + '\\ns1 = ' + str(s1) + '\\ns2 = ' + str(s2) + '\\nn1 = '+ str(n1) + '\\nn2 = ' + str(n2))\n",
    "\n",
    "t = calculate_t(x1_bar, x2_bar, s1, s2, n1, n2, u1_minus_u2)\n",
    "print('t = ' + str(t))"
   ]
  },
  {
   "cell_type": "code",
   "execution_count": 33,
   "metadata": {},
   "outputs": [
    {
     "name": "stdout",
     "output_type": "stream",
     "text": [
      "x1_bar = 94.5\n",
      "x2_bar = 109.1\n",
      "s1 = 10\n",
      "s2 = 9\n",
      "n1 = 10\n",
      "n2 = 10\n",
      "t = -3.4317336114725583\n"
     ]
    }
   ],
   "source": [
    "# Known Stat\n",
    "\n",
    "x1_bar = 94.5\n",
    "x2_bar = 109.1\n",
    "\n",
    "s1 = 10\n",
    "s2 = 9\n",
    "\n",
    "n1 = 10\n",
    "n2 = 10\n",
    "\n",
    "u1_minus_u2 = 0\n",
    "\n",
    "print('x1_bar = ' + str(x1_bar) + '\\nx2_bar = ' + str(x2_bar) + '\\ns1 = ' + str(s1) + '\\ns2 = ' + str(s2) + '\\nn1 = '+ str(n1) + '\\nn2 = ' + str(n2))\n",
    "\n",
    "t = calculate_t(x1_bar, x2_bar, s1, s2, n1, n2, u1_minus_u2)\n",
    "print('t = ' + str(t))"
   ]
  },
  {
   "cell_type": "markdown",
   "metadata": {},
   "source": [
    "### Confidence Interval"
   ]
  },
  {
   "cell_type": "code",
   "execution_count": 31,
   "metadata": {},
   "outputs": [
    {
     "name": "stdout",
     "output_type": "stream",
     "text": [
      "Confidence Interval: -14.599999999999994 ± 7.798332571774558\n"
     ]
    }
   ],
   "source": [
    "# Known Stat\n",
    "\n",
    "t = 1.833\n",
    "\n",
    "x1_bar = 94.5\n",
    "x2_bar = 109.1\n",
    "\n",
    "s1 = 10\n",
    "s2 = 9\n",
    "\n",
    "n1 = 10\n",
    "n2 = 10\n",
    "\n",
    "m = t * calculate_std_error(s1, s2, n1, n2)\n",
    "print('Confidence Interval: ' + str(x1_bar - x2_bar) + ' ± ' + str(m))"
   ]
  },
  {
   "cell_type": "code",
   "execution_count": null,
   "metadata": {},
   "outputs": [],
   "source": []
  }
 ],
 "metadata": {
  "kernelspec": {
   "display_name": "Python 3",
   "language": "python",
   "name": "python3"
  },
  "language_info": {
   "codemirror_mode": {
    "name": "ipython",
    "version": 3
   },
   "file_extension": ".py",
   "mimetype": "text/x-python",
   "name": "python",
   "nbconvert_exporter": "python",
   "pygments_lexer": "ipython3",
   "version": "3.8.3"
  }
 },
 "nbformat": 4,
 "nbformat_minor": 4
}
