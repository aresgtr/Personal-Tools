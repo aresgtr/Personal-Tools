{
 "cells": [
  {
   "cell_type": "markdown",
   "metadata": {},
   "source": [
    "# Sorting Algorithms by Python 3"
   ]
  },
  {
   "cell_type": "code",
   "execution_count": 1,
   "metadata": {},
   "outputs": [],
   "source": [
    "nums = [1,9,2,8,3,7,4,6,5]"
   ]
  },
  {
   "cell_type": "markdown",
   "metadata": {},
   "source": [
    "## Bubble Sort 冒泡排序"
   ]
  },
  {
   "cell_type": "code",
   "execution_count": 2,
   "metadata": {},
   "outputs": [],
   "source": [
    "def BubbleSort(array):\n",
    "    length = len(array)\n",
    "    for i in range(length):\n",
    "        for j in range(length - i - 1):\n",
    "            if array[j] > array[j + 1]:    # 相邻元素两两对比\n",
    "                array[j], array[j + 1] = array[j + 1], array[j]    #元素交换\n",
    "    return array"
   ]
  },
  {
   "cell_type": "code",
   "execution_count": 3,
   "metadata": {},
   "outputs": [
    {
     "name": "stdout",
     "output_type": "stream",
     "text": [
      "[1, 2, 3, 4, 5, 6, 7, 8, 9]\n"
     ]
    }
   ],
   "source": [
    "print(BubbleSort(nums))"
   ]
  },
  {
   "cell_type": "markdown",
   "metadata": {},
   "source": [
    "## Selection Sort 选择排序"
   ]
  },
  {
   "cell_type": "code",
   "execution_count": 4,
   "metadata": {},
   "outputs": [],
   "source": [
    "def SelectionSort(array):\n",
    "    length = len(array)\n",
    "    for i in range(length - 1):\n",
    "        min_index = i\n",
    "        for j in range(i + 1, length):      # 寻找最小的数，并保存最小数index，以便和最前交换\n",
    "            if array[j] < array[min_index]:\n",
    "                min_index = j\n",
    "        array[i], array[min_index] = array[min_index], array[i]\n",
    "    return array"
   ]
  },
  {
   "cell_type": "code",
   "execution_count": 5,
   "metadata": {},
   "outputs": [
    {
     "name": "stdout",
     "output_type": "stream",
     "text": [
      "[1, 2, 3, 4, 5, 6, 7, 8, 9]\n"
     ]
    }
   ],
   "source": [
    "print(SelectionSort(nums))"
   ]
  },
  {
   "cell_type": "markdown",
   "metadata": {},
   "source": [
    "## Shell Sort 希尔排序"
   ]
  },
  {
   "cell_type": "code",
   "execution_count": 6,
   "metadata": {},
   "outputs": [],
   "source": [
    "def ShellSort(nums):\n",
    "    length = len(nums)\n",
    "    gap = int(length / 2)\n",
    "\n",
    "    while (gap >= 1):\n",
    "        # print(gap)\n",
    "        for i in range(gap, length):\n",
    "            current = nums[i]\n",
    "            j = i - gap\n",
    "            while j >= 0 and nums[j] > current:\n",
    "                nums[j + gap] = nums[j]\n",
    "                j = j - gap\n",
    "            nums[j + gap] = current\n",
    "\n",
    "        gap = int(gap / 2)\n",
    "    return nums"
   ]
  },
  {
   "cell_type": "code",
   "execution_count": 7,
   "metadata": {},
   "outputs": [
    {
     "name": "stdout",
     "output_type": "stream",
     "text": [
      "[1, 2, 3, 4, 5, 6, 7, 8, 9]\n"
     ]
    }
   ],
   "source": [
    "print(ShellSort(nums))"
   ]
  },
  {
   "cell_type": "markdown",
   "metadata": {},
   "source": [
    "## Merge Sort 归并排序"
   ]
  },
  {
   "cell_type": "code",
   "execution_count": 8,
   "metadata": {},
   "outputs": [],
   "source": [
    "def mergeSort(nums):\n",
    "    length = len(nums)\n",
    "    if length < 2: return nums\n",
    "    middle = int(length / 2)\n",
    "    left = nums[:middle]\n",
    "    right = nums[middle:]\n",
    "    return merge(mergeSort(left), mergeSort(right))\n",
    "\n",
    "def merge(left, right):\n",
    "    merged = []\n",
    "    while left and right:\n",
    "        if left[0] < right[0]:\n",
    "            merged.append(left.pop(0))\n",
    "        else:\n",
    "            merged.append(right.pop(0))\n",
    "    while left:\n",
    "        merged.append(left.pop(0))\n",
    "    while right:\n",
    "        merged.append(right.pop(0))\n",
    "    return merged"
   ]
  },
  {
   "cell_type": "code",
   "execution_count": 9,
   "metadata": {},
   "outputs": [
    {
     "name": "stdout",
     "output_type": "stream",
     "text": [
      "[1, 2, 3, 4, 5, 6, 7, 8, 9]\n"
     ]
    }
   ],
   "source": [
    "print(mergeSort(nums))"
   ]
  },
  {
   "cell_type": "markdown",
   "metadata": {},
   "source": [
    "## Quick Sort 快速排序"
   ]
  },
  {
   "cell_type": "code",
   "execution_count": 10,
   "metadata": {},
   "outputs": [],
   "source": [
    "def quickSort(nums, low, high):\n",
    "    if low < high:\n",
    "        pivot_location = partition(nums, low, high)\n",
    "        quickSort(nums, low, pivot_location)\n",
    "        quickSort(nums, pivot_location + 1, high)\n",
    "    return nums\n",
    "\n",
    "def partition(nums, low, high):\n",
    "    pivot = low\n",
    "    leftwall = pivot + 1\n",
    "\n",
    "    for i in range(leftwall, high + 1):\n",
    "        if nums[i] < nums[pivot]:\n",
    "            # bring every element less than pivot to the left of wall\n",
    "            nums[leftwall], nums[i] = nums[i], nums[leftwall]\n",
    "            leftwall += 1\n",
    "    # swap pivot to middle\n",
    "    nums[pivot], nums[leftwall - 1] = nums[leftwall - 1], nums[pivot]\n",
    "\n",
    "    return leftwall - 1"
   ]
  },
  {
   "cell_type": "code",
   "execution_count": 11,
   "metadata": {},
   "outputs": [
    {
     "name": "stdout",
     "output_type": "stream",
     "text": [
      "[1, 2, 3, 4, 5, 6, 7, 8, 9]\n"
     ]
    }
   ],
   "source": [
    "print(quickSort(nums, 0, len(nums) - 1))"
   ]
  },
  {
   "cell_type": "code",
   "execution_count": null,
   "metadata": {},
   "outputs": [],
   "source": []
  }
 ],
 "metadata": {
  "kernelspec": {
   "display_name": "Python 3",
   "language": "python",
   "name": "python3"
  },
  "language_info": {
   "codemirror_mode": {
    "name": "ipython",
    "version": 3
   },
   "file_extension": ".py",
   "mimetype": "text/x-python",
   "name": "python",
   "nbconvert_exporter": "python",
   "pygments_lexer": "ipython3",
   "version": "3.8.3"
  }
 },
 "nbformat": 4,
 "nbformat_minor": 4
}
